{
 "cells": [
  {
   "cell_type": "code",
   "execution_count": 1,
   "metadata": {},
   "outputs": [],
   "source": [
    "%load_ext autoreload\n",
    "%autoreload 2\n",
    "%matplotlib inline"
   ]
  },
  {
   "cell_type": "code",
   "execution_count": 10,
   "metadata": {},
   "outputs": [],
   "source": [
    "from preprocess import *\n",
    "import tf_varify"
   ]
  },
  {
   "cell_type": "code",
   "execution_count": null,
   "metadata": {},
   "outputs": [],
   "source": [
    "preprocess_run()"
   ]
  },
  {
   "cell_type": "code",
   "execution_count": null,
   "metadata": {},
   "outputs": [],
   "source": [
    "np.load('./data_npy/mean_npy.npy').shape"
   ]
  },
  {
   "cell_type": "code",
   "execution_count": 11,
   "metadata": {
    "scrolled": true
   },
   "outputs": [
    {
     "name": "stdout",
     "output_type": "stream",
     "text": [
      "---------------------------------------- - ----------------------------------------\n",
      "---------------------------------------- - ----------------------------------------\n",
      "test finished inside training\n",
      "---------------------------------------- - ----------------------------------------\n",
      "---------------------------------------- - ----------------------------------------\n",
      "test finished inside training\n",
      "---------------------------------------- - ----------------------------------------\n",
      "---------------------------------------- - ----------------------------------------\n",
      "---------------------------------------- - ----------------------------------------\n",
      "---------------------------------------- - ----------------------------------------\n",
      "test finished inside training\n",
      "---------------------------------------- - ----------------------------------------\n",
      "---------------------------------------- - ----------------------------------------\n",
      "---------------------------------------- - ----------------------------------------\n",
      "---------------------------------------- - ----------------------------------------\n",
      "test finished inside training\n",
      "---------------------------------------- - ----------------------------------------\n",
      "---------------------------------------- - ----------------------------------------\n",
      "---------------------------------------- - ----------------------------------------\n",
      "---------------------------------------- - ----------------------------------------\n",
      "test finished inside training\n",
      "---------------------------------------- - ----------------------------------------\n",
      "---------------------------------------- - ----------------------------------------\n",
      "---------------------------------------- - ----------------------------------------\n",
      "---------------------------------------- - ----------------------------------------\n",
      "test finished inside training\n",
      "Done training for 10 epochs, 514 steps.\n"
     ]
    }
   ],
   "source": [
    "tf_varify.tf_varify()"
   ]
  },
  {
   "cell_type": "code",
   "execution_count": 7,
   "metadata": {},
   "outputs": [
    {
     "data": {
      "text/plain": [
       "-0.01"
      ]
     },
     "execution_count": 7,
     "metadata": {},
     "output_type": "execute_result"
    }
   ],
   "source": [
    "round(14.42-14.43,2)"
   ]
  },
  {
   "cell_type": "code",
   "execution_count": null,
   "metadata": {},
   "outputs": [],
   "source": [
    "DESIRED_SHAPE = (130,130,130)\n",
    "\n",
    "nii = nib.load('/media/woody/Elements/age_data/ABIDE_I/anat_data/50002.nii.gz')\n",
    "arr = nii.get_data()\n",
    "header = nii.header\n",
    "pixdim = np.round(header['pixdim'][1:4],4)\n",
    "resampled_img = resample(arr, pixdim, [2,2,2])\n",
    "crop_padded_img = crop_pad_abide(resampled_img,DESIRED_SHAPE)\n",
    "crop_padded_img = np.round(crop_padded_img)"
   ]
  },
  {
   "cell_type": "code",
   "execution_count": null,
   "metadata": {},
   "outputs": [],
   "source": [
    "print2d(arr)"
   ]
  },
  {
   "cell_type": "code",
   "execution_count": null,
   "metadata": {},
   "outputs": [],
   "source": [
    "print2d(resampled_img)"
   ]
  },
  {
   "cell_type": "code",
   "execution_count": null,
   "metadata": {},
   "outputs": [],
   "source": [
    "print2d(crop_padded_img)"
   ]
  },
  {
   "cell_type": "code",
   "execution_count": null,
   "metadata": {},
   "outputs": [],
   "source": [
    "resampled_img_2 = resample(arr, pixdim, [4,4,4])\n",
    "crop_padded_img_2 = crop_pad_abide(resampled_img_2,(65,65,65))\n",
    "crop_padded_img_2 = np.round(crop_padded_img_2)"
   ]
  },
  {
   "cell_type": "code",
   "execution_count": null,
   "metadata": {},
   "outputs": [],
   "source": [
    "print2d(resampled_img_2)\n",
    "print2d(crop_padded_img_2)\n"
   ]
  },
  {
   "cell_type": "code",
   "execution_count": null,
   "metadata": {},
   "outputs": [],
   "source": [
    "crop_padded_img_3 = crop_pad(resampled_img_2,(67,67,67))\n",
    "crop_padded_img_3 = np.round(crop_padded_img_3)"
   ]
  },
  {
   "cell_type": "code",
   "execution_count": null,
   "metadata": {},
   "outputs": [],
   "source": [
    "print2d(crop_padded_img_3)"
   ]
  },
  {
   "cell_type": "code",
   "execution_count": null,
   "metadata": {},
   "outputs": [],
   "source": []
  },
  {
   "cell_type": "code",
   "execution_count": null,
   "metadata": {},
   "outputs": [],
   "source": []
  },
  {
   "cell_type": "code",
   "execution_count": null,
   "metadata": {},
   "outputs": [],
   "source": [
    "arr_npy.dtype == decode_arr.dtype"
   ]
  },
  {
   "cell_type": "code",
   "execution_count": null,
   "metadata": {},
   "outputs": [],
   "source": [
    "decode_arr.dtype"
   ]
  },
  {
   "cell_type": "code",
   "execution_count": null,
   "metadata": {},
   "outputs": [],
   "source": [
    "np.sum(arr_npy - decode_arr)"
   ]
  },
  {
   "cell_type": "code",
   "execution_count": null,
   "metadata": {},
   "outputs": [],
   "source": []
  }
 ],
 "metadata": {
  "kernelspec": {
   "display_name": "Python 3",
   "language": "python",
   "name": "python3"
  },
  "language_info": {
   "codemirror_mode": {
    "name": "ipython",
    "version": 3
   },
   "file_extension": ".py",
   "mimetype": "text/x-python",
   "name": "python",
   "nbconvert_exporter": "python",
   "pygments_lexer": "ipython3",
   "version": "3.5.2"
  }
 },
 "nbformat": 4,
 "nbformat_minor": 2
}
