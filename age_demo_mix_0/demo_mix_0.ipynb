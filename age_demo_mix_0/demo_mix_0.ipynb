{
 "cells": [
  {
   "cell_type": "code",
   "execution_count": 14,
   "metadata": {},
   "outputs": [
    {
     "name": "stdout",
     "output_type": "stream",
     "text": [
      "The autoreload extension is already loaded. To reload it, use:\n",
      "  %reload_ext autoreload\n"
     ]
    }
   ],
   "source": [
    "%load_ext autoreload\n",
    "%autoreload 2\n",
    "%matplotlib inline"
   ]
  },
  {
   "cell_type": "code",
   "execution_count": 15,
   "metadata": {},
   "outputs": [],
   "source": [
    "from preprocess import *\n",
    "import tf_varify"
   ]
  },
  {
   "cell_type": "code",
   "execution_count": null,
   "metadata": {},
   "outputs": [],
   "source": [
    "preprocess_run()"
   ]
  },
  {
   "cell_type": "code",
   "execution_count": null,
   "metadata": {
    "scrolled": true
   },
   "outputs": [],
   "source": [
    "tf_varify.tf_varify()"
   ]
  },
  {
   "cell_type": "code",
   "execution_count": 12,
   "metadata": {
    "scrolled": true
   },
   "outputs": [
    {
     "name": "stdout",
     "output_type": "stream",
     "text": [
      "2019-04-18 13:52:43.583108: I tensorflow/core/platform/cpu_feature_guard.cc:141] Your CPU supports instructions that this TensorFlow binary was not compiled to use: AVX2 FMA\n",
      "2019-04-18 13:52:43.646712: I tensorflow/stream_executor/cuda/cuda_gpu_executor.cc:964] successful NUMA node read from SysFS had negative value (-1), but there must be at least one NUMA node, so returning NUMA node zero\n",
      "2019-04-18 13:52:43.647073: I tensorflow/core/common_runtime/gpu/gpu_device.cc:1411] Found device 0 with properties: \n",
      "name: GeForce GTX 1080 Ti major: 6 minor: 1 memoryClockRate(GHz): 1.721\n",
      "pciBusID: 0000:01:00.0\n",
      "totalMemory: 10.91GiB freeMemory: 10.21GiB\n",
      "2019-04-18 13:52:43.647086: I tensorflow/core/common_runtime/gpu/gpu_device.cc:1490] Adding visible gpu devices: 0\n",
      "2019-04-18 13:52:43.818355: I tensorflow/core/common_runtime/gpu/gpu_device.cc:971] Device interconnect StreamExecutor with strength 1 edge matrix:\n",
      "2019-04-18 13:52:43.818385: I tensorflow/core/common_runtime/gpu/gpu_device.cc:977]      0 \n",
      "2019-04-18 13:52:43.818391: I tensorflow/core/common_runtime/gpu/gpu_device.cc:990] 0:   N \n",
      "2019-04-18 13:52:43.818552: I tensorflow/core/common_runtime/gpu/gpu_device.cc:1103] Created TensorFlow device (/job:localhost/replica:0/task:0/device:GPU:0 with 9870 MB memory) -> physical GPU (device: 0, name: GeForce GTX 1080 Ti, pci bus id: 0000:01:00.0, compute capability: 6.1)\n",
      "Let's get started to train!\n",
      "Step 0: (loss func: MSE, acc func: Pearson correlation coefficient)\n",
      "                             training_loss = 7677466.50, training_acc = 0.10 (1.418 sec)\n",
      "                             val_loss(test_loss) = 8703829.00, val_acc(test_acc) = -0.25\n",
      "Step 100: (loss func: MSE, acc func: Pearson correlation coefficient)\n",
      "                             training_loss = 719.21, training_acc = 0.44 (0.141 sec)\n",
      "                             val_loss(test_loss) = 366.43, val_acc(test_acc) = 0.25\n",
      "best shot model: test_loss = 366.43, step = 100\n",
      "Step 200: (loss func: MSE, acc func: Pearson correlation coefficient)\n",
      "                             training_loss = 459.01, training_acc = 0.35 (0.140 sec)\n",
      "                             val_loss(test_loss) = 288.68, val_acc(test_acc) = 0.24\n",
      "best shot model: test_loss = 288.68, step = 200\n",
      "model saved successfully.\n",
      "Step 300: (loss func: MSE, acc func: Pearson correlation coefficient)\n",
      "                             training_loss = 201.68, training_acc = 0.52 (0.141 sec)\n",
      "                             val_loss(test_loss) = 262.09, val_acc(test_acc) = 0.32\n",
      "best shot model: test_loss = 262.09, step = 300\n",
      "model saved successfully.\n",
      "Step 400: (loss func: MSE, acc func: Pearson correlation coefficient)\n",
      "                             training_loss = 320.92, training_acc = 0.40 (0.141 sec)\n",
      "                             val_loss(test_loss) = 233.09, val_acc(test_acc) = 0.40\n",
      "best shot model: test_loss = 233.09, step = 400\n",
      "model saved successfully.\n",
      "Step 500: (loss func: MSE, acc func: Pearson correlation coefficient)\n",
      "                             training_loss = 176.63, training_acc = 0.55 (0.141 sec)\n",
      "                             val_loss(test_loss) = 211.97, val_acc(test_acc) = 0.45\n",
      "best shot model: test_loss = 211.97, step = 500\n",
      "model saved successfully.\n",
      "Step 600: (loss func: MSE, acc func: Pearson correlation coefficient)\n",
      "                             training_loss = 92.00, training_acc = 0.35 (0.141 sec)\n",
      "                             val_loss(test_loss) = 189.99, val_acc(test_acc) = 0.45\n",
      "best shot model: test_loss = 189.99, step = 600\n",
      "model saved successfully.\n",
      "Step 700: (loss func: MSE, acc func: Pearson correlation coefficient)\n",
      "                             training_loss = 104.28, training_acc = 0.63 (0.140 sec)\n",
      "                             val_loss(test_loss) = 172.86, val_acc(test_acc) = 0.43\n",
      "best shot model: test_loss = 172.86, step = 700\n",
      "model saved successfully.\n",
      "Step 800: (loss func: MSE, acc func: Pearson correlation coefficient)\n",
      "                             training_loss = 190.74, training_acc = 0.50 (0.140 sec)\n",
      "                             val_loss(test_loss) = 157.58, val_acc(test_acc) = 0.49\n",
      "best shot model: test_loss = 157.58, step = 800\n",
      "model saved successfully.\n",
      "Step 900: (loss func: MSE, acc func: Pearson correlation coefficient)\n",
      "                             training_loss = 154.03, training_acc = 0.36 (0.139 sec)\n",
      "                             val_loss(test_loss) = 141.42, val_acc(test_acc) = 0.51\n",
      "best shot model: test_loss = 141.42, step = 900\n",
      "model saved successfully.\n",
      "Step 1000: (loss func: MSE, acc func: Pearson correlation coefficient)\n",
      "                             training_loss = 118.02, training_acc = 0.70 (0.141 sec)\n",
      "                             val_loss(test_loss) = 116.27, val_acc(test_acc) = 0.38\n",
      "best shot model: test_loss = 116.27, step = 1000\n",
      "model saved successfully.\n",
      "Step 1100: (loss func: MSE, acc func: Pearson correlation coefficient)\n",
      "                             training_loss = 110.81, training_acc = 0.35 (0.141 sec)\n",
      "                             val_loss(test_loss) = 112.70, val_acc(test_acc) = 0.50\n",
      "best shot model: test_loss = 112.70, step = 1100\n",
      "model saved successfully.\n",
      "Step 1200: (loss func: MSE, acc func: Pearson correlation coefficient)\n",
      "                             training_loss = 62.99, training_acc = -0.04 (0.140 sec)\n",
      "                             val_loss(test_loss) = 113.54, val_acc(test_acc) = 0.48\n",
      "Step 1300: (loss func: MSE, acc func: Pearson correlation coefficient)\n",
      "                             training_loss = 56.12, training_acc = 0.62 (0.141 sec)\n",
      "                             val_loss(test_loss) = 115.43, val_acc(test_acc) = 0.49\n",
      "Step 1400: (loss func: MSE, acc func: Pearson correlation coefficient)\n",
      "                             training_loss = 195.90, training_acc = 0.66 (0.141 sec)\n",
      "                             val_loss(test_loss) = 124.28, val_acc(test_acc) = 0.54\n",
      "Step 1500: (loss func: MSE, acc func: Pearson correlation coefficient)\n",
      "                             training_loss = 274.49, training_acc = 0.86 (0.141 sec)\n",
      "                             val_loss(test_loss) = 130.68, val_acc(test_acc) = 0.51\n",
      "Step 1600: (loss func: MSE, acc func: Pearson correlation coefficient)\n",
      "                             training_loss = 95.73, training_acc = 0.45 (0.141 sec)\n",
      "                             val_loss(test_loss) = 84.44, val_acc(test_acc) = 0.42\n",
      "best shot model: test_loss = 84.44, step = 1600\n",
      "model saved successfully.\n",
      "Step 1700: (loss func: MSE, acc func: Pearson correlation coefficient)\n",
      "                             training_loss = 92.60, training_acc = 0.37 (0.140 sec)\n",
      "                             val_loss(test_loss) = 90.54, val_acc(test_acc) = 0.48\n",
      "Step 1800: (loss func: MSE, acc func: Pearson correlation coefficient)\n",
      "                             training_loss = 100.77, training_acc = 0.17 (0.140 sec)\n",
      "                             val_loss(test_loss) = 80.61, val_acc(test_acc) = 0.43\n",
      "best shot model: test_loss = 80.61, step = 1800\n",
      "model saved successfully.\n",
      "Step 1900: (loss func: MSE, acc func: Pearson correlation coefficient)\n",
      "                             training_loss = 86.98, training_acc = 0.34 (0.141 sec)\n",
      "                             val_loss(test_loss) = 77.23, val_acc(test_acc) = 0.44\n",
      "best shot model: test_loss = 77.23, step = 1900\n",
      "model saved successfully.\n",
      "Step 2000: (loss func: MSE, acc func: Pearson correlation coefficient)\n",
      "                             training_loss = 72.83, training_acc = 0.31 (0.140 sec)\n",
      "                             val_loss(test_loss) = 56.63, val_acc(test_acc) = 0.46\n",
      "best shot model: test_loss = 56.63, step = 2000\n",
      "model saved successfully.\n",
      "Step 2100: (loss func: MSE, acc func: Pearson correlation coefficient)\n",
      "                             training_loss = 111.46, training_acc = 0.26 (0.150 sec)\n",
      "                             val_loss(test_loss) = 70.92, val_acc(test_acc) = 0.38\n",
      "Step 2200: (loss func: MSE, acc func: Pearson correlation coefficient)\n",
      "                             training_loss = 21.74, training_acc = 0.51 (0.141 sec)\n",
      "                             val_loss(test_loss) = 76.27, val_acc(test_acc) = 0.28\n",
      "Step 2300: (loss func: MSE, acc func: Pearson correlation coefficient)\n",
      "                             training_loss = 40.43, training_acc = 0.64 (0.141 sec)\n",
      "                             val_loss(test_loss) = 70.67, val_acc(test_acc) = 0.27\n"
     ]
    },
    {
     "name": "stdout",
     "output_type": "stream",
     "text": [
      "Step 2400: (loss func: MSE, acc func: Pearson correlation coefficient)\n",
      "                             training_loss = 17.24, training_acc = 0.71 (0.142 sec)\n",
      "                             val_loss(test_loss) = 49.35, val_acc(test_acc) = 0.41\n",
      "best shot model: test_loss = 49.35, step = 2400\n",
      "model saved successfully.\n",
      "Step 2500: (loss func: MSE, acc func: Pearson correlation coefficient)\n",
      "                             training_loss = 48.84, training_acc = 0.93 (0.141 sec)\n",
      "                             val_loss(test_loss) = 79.06, val_acc(test_acc) = 0.16\n",
      "Step 2600: (loss func: MSE, acc func: Pearson correlation coefficient)\n",
      "                             training_loss = 21.17, training_acc = 0.71 (0.141 sec)\n",
      "                             val_loss(test_loss) = 51.53, val_acc(test_acc) = 0.37\n",
      "Step 2700: (loss func: MSE, acc func: Pearson correlation coefficient)\n",
      "                             training_loss = 19.48, training_acc = 0.50 (0.141 sec)\n",
      "                             val_loss(test_loss) = 60.42, val_acc(test_acc) = 0.25\n",
      "Step 2800: (loss func: MSE, acc func: Pearson correlation coefficient)\n",
      "                             training_loss = 114.56, training_acc = 0.94 (0.142 sec)\n",
      "                             val_loss(test_loss) = 58.89, val_acc(test_acc) = 0.28\n",
      "Step 2900: (loss func: MSE, acc func: Pearson correlation coefficient)\n",
      "                             training_loss = 87.35, training_acc = 0.80 (0.153 sec)\n",
      "                             val_loss(test_loss) = 65.44, val_acc(test_acc) = 0.22\n",
      "Step 3000: (loss func: MSE, acc func: Pearson correlation coefficient)\n",
      "                             training_loss = 46.61, training_acc = 0.46 (0.142 sec)\n",
      "                             val_loss(test_loss) = 58.86, val_acc(test_acc) = 0.32\n",
      "Step 3100: (loss func: MSE, acc func: Pearson correlation coefficient)\n",
      "                             training_loss = 31.73, training_acc = 0.62 (0.141 sec)\n",
      "                             val_loss(test_loss) = 54.39, val_acc(test_acc) = 0.39\n",
      "Step 3200: (loss func: MSE, acc func: Pearson correlation coefficient)\n",
      "                             training_loss = 63.68, training_acc = 0.98 (0.142 sec)\n",
      "                             val_loss(test_loss) = 71.90, val_acc(test_acc) = 0.30\n",
      "Step 3300: (loss func: MSE, acc func: Pearson correlation coefficient)\n",
      "                             training_loss = 86.48, training_acc = 0.79 (0.142 sec)\n",
      "                             val_loss(test_loss) = 62.03, val_acc(test_acc) = 0.28\n",
      "Step 3400: (loss func: MSE, acc func: Pearson correlation coefficient)\n",
      "                             training_loss = 32.62, training_acc = -0.30 (0.142 sec)\n",
      "                             val_loss(test_loss) = 50.12, val_acc(test_acc) = 0.29\n",
      "Step 3500: (loss func: MSE, acc func: Pearson correlation coefficient)\n",
      "                             training_loss = 40.39, training_acc = 0.87 (0.150 sec)\n",
      "                             val_loss(test_loss) = 49.22, val_acc(test_acc) = 0.36\n",
      "best shot model: test_loss = 49.22, step = 3500\n",
      "model saved successfully.\n",
      "Step 3600: (loss func: MSE, acc func: Pearson correlation coefficient)\n",
      "                             training_loss = 16.46, training_acc = 0.62 (0.141 sec)\n",
      "                             val_loss(test_loss) = 36.88, val_acc(test_acc) = 0.51\n",
      "best shot model: test_loss = 36.88, step = 3600\n",
      "model saved successfully.\n",
      "Step 3700: (loss func: MSE, acc func: Pearson correlation coefficient)\n",
      "                             training_loss = 47.12, training_acc = 0.38 (0.143 sec)\n",
      "                             val_loss(test_loss) = 44.40, val_acc(test_acc) = 0.40\n",
      "Step 3800: (loss func: MSE, acc func: Pearson correlation coefficient)\n",
      "                             training_loss = 26.15, training_acc = 0.90 (0.154 sec)\n",
      "                             val_loss(test_loss) = 77.68, val_acc(test_acc) = 0.17\n",
      "Step 3900: (loss func: MSE, acc func: Pearson correlation coefficient)\n",
      "                             training_loss = 17.16, training_acc = 0.36 (0.141 sec)\n",
      "                             val_loss(test_loss) = 49.14, val_acc(test_acc) = 0.34\n",
      "Step 4000: (loss func: MSE, acc func: Pearson correlation coefficient)\n",
      "                             training_loss = 17.15, training_acc = 0.95 (0.150 sec)\n",
      "                             val_loss(test_loss) = 47.48, val_acc(test_acc) = 0.32\n",
      "Step 4100: (loss func: MSE, acc func: Pearson correlation coefficient)\n",
      "                             training_loss = 66.47, training_acc = 0.93 (0.140 sec)\n",
      "                             val_loss(test_loss) = 91.36, val_acc(test_acc) = 0.11\n",
      "Step 4200: (loss func: MSE, acc func: Pearson correlation coefficient)\n",
      "                             training_loss = 76.80, training_acc = 0.80 (0.141 sec)\n",
      "                             val_loss(test_loss) = 65.44, val_acc(test_acc) = 0.13\n",
      "Step 4300: (loss func: MSE, acc func: Pearson correlation coefficient)\n",
      "                             training_loss = 103.78, training_acc = -0.03 (0.141 sec)\n",
      "                             val_loss(test_loss) = 72.88, val_acc(test_acc) = 0.12\n",
      "Step 4400: (loss func: MSE, acc func: Pearson correlation coefficient)\n",
      "                             training_loss = 31.30, training_acc = 0.82 (0.142 sec)\n",
      "                             val_loss(test_loss) = 59.54, val_acc(test_acc) = 0.26\n",
      "Step 4500: (loss func: MSE, acc func: Pearson correlation coefficient)\n",
      "                             training_loss = 41.32, training_acc = 0.34 (0.141 sec)\n",
      "                             val_loss(test_loss) = 57.06, val_acc(test_acc) = 0.23\n",
      "Step 4600: (loss func: MSE, acc func: Pearson correlation coefficient)\n",
      "                             training_loss = 26.66, training_acc = 0.71 (0.141 sec)\n",
      "                             val_loss(test_loss) = 43.59, val_acc(test_acc) = 0.37\n",
      "Step 4700: (loss func: MSE, acc func: Pearson correlation coefficient)\n",
      "                             training_loss = 54.66, training_acc = 0.94 (0.143 sec)\n",
      "                             val_loss(test_loss) = 58.77, val_acc(test_acc) = 0.23\n",
      "Step 4800: (loss func: MSE, acc func: Pearson correlation coefficient)\n",
      "                             training_loss = 17.01, training_acc = 0.81 (0.142 sec)\n",
      "                             val_loss(test_loss) = 46.86, val_acc(test_acc) = 0.44\n",
      "Step 4900: (loss func: MSE, acc func: Pearson correlation coefficient)\n",
      "                             training_loss = 24.56, training_acc = 0.93 (0.146 sec)\n",
      "                             val_loss(test_loss) = 29.14, val_acc(test_acc) = 0.57\n",
      "best shot model: test_loss = 29.14, step = 4900\n",
      "model saved successfully.\n",
      "Step 5000: (loss func: MSE, acc func: Pearson correlation coefficient)\n",
      "                             training_loss = 28.89, training_acc = 0.77 (0.147 sec)\n",
      "                             val_loss(test_loss) = 37.92, val_acc(test_acc) = 0.44\n",
      "Step 5100: (loss func: MSE, acc func: Pearson correlation coefficient)\n",
      "                             training_loss = 4.22, training_acc = 0.75 (0.141 sec)\n",
      "                             val_loss(test_loss) = 41.40, val_acc(test_acc) = 0.43\n",
      "Step 5200: (loss func: MSE, acc func: Pearson correlation coefficient)\n",
      "                             training_loss = 22.99, training_acc = 0.95 (0.142 sec)\n",
      "                             val_loss(test_loss) = 30.56, val_acc(test_acc) = 0.55\n",
      "Step 5300: (loss func: MSE, acc func: Pearson correlation coefficient)\n",
      "                             training_loss = 17.78, training_acc = 0.75 (0.143 sec)\n",
      "                             val_loss(test_loss) = 35.98, val_acc(test_acc) = 0.48\n",
      "Step 5400: (loss func: MSE, acc func: Pearson correlation coefficient)\n",
      "                             training_loss = 200.23, training_acc = 0.00 (0.142 sec)\n",
      "                             val_loss(test_loss) = 53.25, val_acc(test_acc) = 0.30\n",
      "Step 5500: (loss func: MSE, acc func: Pearson correlation coefficient)\n",
      "                             training_loss = 11.03, training_acc = 0.98 (0.142 sec)\n",
      "                             val_loss(test_loss) = 49.95, val_acc(test_acc) = 0.49\n",
      "Step 5600: (loss func: MSE, acc func: Pearson correlation coefficient)\n",
      "                             training_loss = 165.37, training_acc = 0.33 (0.143 sec)\n",
      "                             val_loss(test_loss) = 56.80, val_acc(test_acc) = 0.25\n",
      "Step 5700: (loss func: MSE, acc func: Pearson correlation coefficient)\n",
      "                             training_loss = 101.19, training_acc = 0.53 (0.142 sec)\n",
      "                             val_loss(test_loss) = 51.67, val_acc(test_acc) = 0.30\n"
     ]
    },
    {
     "name": "stdout",
     "output_type": "stream",
     "text": [
      "Step 5800: (loss func: MSE, acc func: Pearson correlation coefficient)\n",
      "                             training_loss = 11.72, training_acc = 0.17 (0.142 sec)\n",
      "                             val_loss(test_loss) = 68.93, val_acc(test_acc) = 0.20\n",
      "Step 5900: (loss func: MSE, acc func: Pearson correlation coefficient)\n",
      "                             training_loss = 49.63, training_acc = 0.68 (0.142 sec)\n",
      "                             val_loss(test_loss) = 47.91, val_acc(test_acc) = 0.43\n",
      "Step 6000: (loss func: MSE, acc func: Pearson correlation coefficient)\n",
      "                             training_loss = 15.06, training_acc = 0.76 (0.141 sec)\n",
      "                             val_loss(test_loss) = 49.88, val_acc(test_acc) = 0.31\n",
      "Step 6100: (loss func: MSE, acc func: Pearson correlation coefficient)\n",
      "                             training_loss = 6.12, training_acc = 0.88 (0.143 sec)\n",
      "                             val_loss(test_loss) = 47.46, val_acc(test_acc) = 0.38\n",
      "Step 6200: (loss func: MSE, acc func: Pearson correlation coefficient)\n",
      "                             training_loss = 5.50, training_acc = 0.95 (0.142 sec)\n",
      "                             val_loss(test_loss) = 37.59, val_acc(test_acc) = 0.53\n",
      "Step 6300: (loss func: MSE, acc func: Pearson correlation coefficient)\n",
      "                             training_loss = 29.41, training_acc = 0.90 (0.142 sec)\n",
      "                             val_loss(test_loss) = 38.00, val_acc(test_acc) = 0.47\n",
      "Step 6400: (loss func: MSE, acc func: Pearson correlation coefficient)\n",
      "                             training_loss = 34.50, training_acc = 0.33 (0.142 sec)\n",
      "                             val_loss(test_loss) = 38.77, val_acc(test_acc) = 0.48\n",
      "Step 6500: (loss func: MSE, acc func: Pearson correlation coefficient)\n",
      "                             training_loss = 59.63, training_acc = 0.96 (0.140 sec)\n",
      "                             val_loss(test_loss) = 44.27, val_acc(test_acc) = 0.39\n",
      "Step 6600: (loss func: MSE, acc func: Pearson correlation coefficient)\n",
      "                             training_loss = 39.13, training_acc = 0.89 (0.142 sec)\n",
      "                             val_loss(test_loss) = 42.39, val_acc(test_acc) = 0.47\n",
      "Step 6700: (loss func: MSE, acc func: Pearson correlation coefficient)\n",
      "                             training_loss = 23.45, training_acc = 0.81 (0.142 sec)\n",
      "                             val_loss(test_loss) = 46.58, val_acc(test_acc) = 0.47\n",
      "Step 6800: (loss func: MSE, acc func: Pearson correlation coefficient)\n",
      "                             training_loss = 8.53, training_acc = 0.40 (0.142 sec)\n",
      "                             val_loss(test_loss) = 51.34, val_acc(test_acc) = 0.33\n",
      "Step 6900: (loss func: MSE, acc func: Pearson correlation coefficient)\n",
      "                             training_loss = 72.48, training_acc = 0.84 (0.152 sec)\n",
      "                             val_loss(test_loss) = 50.36, val_acc(test_acc) = 0.34\n",
      "Step 7000: (loss func: MSE, acc func: Pearson correlation coefficient)\n",
      "                             training_loss = 77.69, training_acc = 0.98 (0.142 sec)\n",
      "                             val_loss(test_loss) = 54.69, val_acc(test_acc) = 0.32\n",
      "Step 7100: (loss func: MSE, acc func: Pearson correlation coefficient)\n",
      "                             training_loss = 18.40, training_acc = 0.95 (0.141 sec)\n",
      "                             val_loss(test_loss) = 37.87, val_acc(test_acc) = 0.47\n",
      "Step 7200: (loss func: MSE, acc func: Pearson correlation coefficient)\n",
      "                             training_loss = 24.44, training_acc = 0.50 (0.146 sec)\n",
      "                             val_loss(test_loss) = 39.71, val_acc(test_acc) = 0.40\n",
      "Step 7300: (loss func: MSE, acc func: Pearson correlation coefficient)\n",
      "                             training_loss = 22.71, training_acc = 0.73 (0.144 sec)\n",
      "                             val_loss(test_loss) = 32.90, val_acc(test_acc) = 0.55\n",
      "Step 7400: (loss func: MSE, acc func: Pearson correlation coefficient)\n",
      "                             training_loss = 44.12, training_acc = 0.47 (0.144 sec)\n",
      "                             val_loss(test_loss) = 44.71, val_acc(test_acc) = 0.43\n",
      "Step 7500: (loss func: MSE, acc func: Pearson correlation coefficient)\n",
      "                             training_loss = 82.02, training_acc = 0.84 (0.144 sec)\n",
      "                             val_loss(test_loss) = 53.48, val_acc(test_acc) = 0.43\n",
      "Step 7600: (loss func: MSE, acc func: Pearson correlation coefficient)\n",
      "                             training_loss = 44.66, training_acc = 0.72 (0.162 sec)\n",
      "                             val_loss(test_loss) = 44.32, val_acc(test_acc) = 0.39\n",
      "Step 7700: (loss func: MSE, acc func: Pearson correlation coefficient)\n",
      "                             training_loss = 11.62, training_acc = 0.91 (0.144 sec)\n",
      "                             val_loss(test_loss) = 35.27, val_acc(test_acc) = 0.61\n",
      "Step 7800: (loss func: MSE, acc func: Pearson correlation coefficient)\n",
      "                             training_loss = 34.29, training_acc = 0.91 (0.143 sec)\n",
      "                             val_loss(test_loss) = 32.86, val_acc(test_acc) = 0.55\n",
      "Step 7900: (loss func: MSE, acc func: Pearson correlation coefficient)\n",
      "                             training_loss = 18.70, training_acc = 0.89 (0.152 sec)\n",
      "                             val_loss(test_loss) = 41.43, val_acc(test_acc) = 0.35\n",
      "Step 8000: (loss func: MSE, acc func: Pearson correlation coefficient)\n",
      "                             training_loss = 52.01, training_acc = 0.80 (0.143 sec)\n",
      "                             val_loss(test_loss) = 42.88, val_acc(test_acc) = 0.49\n",
      "Step 8100: (loss func: MSE, acc func: Pearson correlation coefficient)\n",
      "                             training_loss = 15.43, training_acc = 0.29 (0.144 sec)\n",
      "                             val_loss(test_loss) = 37.78, val_acc(test_acc) = 0.45\n",
      "Step 8200: (loss func: MSE, acc func: Pearson correlation coefficient)\n",
      "                             training_loss = 6.67, training_acc = 0.80 (0.148 sec)\n",
      "                             val_loss(test_loss) = 41.58, val_acc(test_acc) = 0.40\n",
      "Step 8300: (loss func: MSE, acc func: Pearson correlation coefficient)\n",
      "                             training_loss = 59.87, training_acc = 0.94 (0.144 sec)\n",
      "                             val_loss(test_loss) = 49.43, val_acc(test_acc) = 0.30\n",
      "Step 8400: (loss func: MSE, acc func: Pearson correlation coefficient)\n",
      "                             training_loss = 69.54, training_acc = 0.84 (0.141 sec)\n",
      "                             val_loss(test_loss) = 44.80, val_acc(test_acc) = 0.51\n",
      "Step 8500: (loss func: MSE, acc func: Pearson correlation coefficient)\n",
      "                             training_loss = 29.00, training_acc = 0.74 (0.144 sec)\n",
      "                             val_loss(test_loss) = 39.53, val_acc(test_acc) = 0.52\n",
      "Step 8600: (loss func: MSE, acc func: Pearson correlation coefficient)\n",
      "                             training_loss = 22.80, training_acc = 0.64 (0.143 sec)\n",
      "                             val_loss(test_loss) = 45.50, val_acc(test_acc) = 0.54\n",
      "Step 8700: (loss func: MSE, acc func: Pearson correlation coefficient)\n",
      "                             training_loss = 45.17, training_acc = 0.94 (0.142 sec)\n",
      "                             val_loss(test_loss) = 40.79, val_acc(test_acc) = 0.49\n",
      "Step 8800: (loss func: MSE, acc func: Pearson correlation coefficient)\n",
      "                             training_loss = 71.02, training_acc = 0.92 (0.145 sec)\n",
      "                             val_loss(test_loss) = 51.60, val_acc(test_acc) = 0.41\n",
      "Step 8900: (loss func: MSE, acc func: Pearson correlation coefficient)\n",
      "                             training_loss = 41.79, training_acc = 0.23 (0.142 sec)\n",
      "                             val_loss(test_loss) = 42.32, val_acc(test_acc) = 0.38\n",
      "Step 9000: (loss func: MSE, acc func: Pearson correlation coefficient)\n",
      "                             training_loss = 18.06, training_acc = 0.87 (0.143 sec)\n",
      "                             val_loss(test_loss) = 30.40, val_acc(test_acc) = 0.55\n",
      "Step 9100: (loss func: MSE, acc func: Pearson correlation coefficient)\n",
      "                             training_loss = 75.30, training_acc = -0.10 (0.143 sec)\n",
      "                             val_loss(test_loss) = 39.20, val_acc(test_acc) = 0.51\n",
      "Step 9200: (loss func: MSE, acc func: Pearson correlation coefficient)\n",
      "                             training_loss = 75.15, training_acc = 0.31 (0.150 sec)\n",
      "                             val_loss(test_loss) = 37.63, val_acc(test_acc) = 0.52\n"
     ]
    },
    {
     "name": "stdout",
     "output_type": "stream",
     "text": [
      "Step 9300: (loss func: MSE, acc func: Pearson correlation coefficient)\n",
      "                             training_loss = 24.67, training_acc = 0.99 (0.143 sec)\n",
      "                             val_loss(test_loss) = 32.95, val_acc(test_acc) = 0.52\n",
      "Step 9400: (loss func: MSE, acc func: Pearson correlation coefficient)\n",
      "                             training_loss = 20.36, training_acc = 0.28 (0.141 sec)\n",
      "                             val_loss(test_loss) = 49.02, val_acc(test_acc) = 0.39\n",
      "Step 9500: (loss func: MSE, acc func: Pearson correlation coefficient)\n",
      "                             training_loss = 36.08, training_acc = 0.86 (0.144 sec)\n",
      "                             val_loss(test_loss) = 54.42, val_acc(test_acc) = 0.37\n",
      "Step 9600: (loss func: MSE, acc func: Pearson correlation coefficient)\n",
      "                             training_loss = 39.11, training_acc = 0.96 (0.142 sec)\n",
      "                             val_loss(test_loss) = 31.36, val_acc(test_acc) = 0.67\n",
      "Step 9700: (loss func: MSE, acc func: Pearson correlation coefficient)\n",
      "                             training_loss = 70.88, training_acc = 0.85 (0.142 sec)\n",
      "                             val_loss(test_loss) = 44.82, val_acc(test_acc) = 0.54\n",
      "Step 9800: (loss func: MSE, acc func: Pearson correlation coefficient)\n",
      "                             training_loss = 37.13, training_acc = 0.15 (0.142 sec)\n",
      "                             val_loss(test_loss) = 38.46, val_acc(test_acc) = 0.50\n",
      "Step 9900: (loss func: MSE, acc func: Pearson correlation coefficient)\n",
      "                             training_loss = 18.88, training_acc = 0.97 (0.144 sec)\n",
      "                             val_loss(test_loss) = 34.36, val_acc(test_acc) = 0.59\n",
      "Step 10000: (loss func: MSE, acc func: Pearson correlation coefficient)\n",
      "                             training_loss = 35.12, training_acc = 0.42 (0.143 sec)\n",
      "                             val_loss(test_loss) = 40.87, val_acc(test_acc) = 0.47\n",
      "Step 10100: (loss func: MSE, acc func: Pearson correlation coefficient)\n",
      "                             training_loss = 40.96, training_acc = 0.79 (0.141 sec)\n",
      "                             val_loss(test_loss) = 39.05, val_acc(test_acc) = 0.58\n",
      "Step 10200: (loss func: MSE, acc func: Pearson correlation coefficient)\n",
      "                             training_loss = 72.95, training_acc = 0.98 (0.142 sec)\n",
      "                             val_loss(test_loss) = 44.89, val_acc(test_acc) = 0.47\n",
      "Done training for 200 epochs, 10280 steps.\n",
      "l1_conv3d/Relu   [None, 67, 67, 67, 16]\n",
      "l1_conv3d/max_pool3d   [None, 34, 34, 34, 16]\n",
      "l2_conv3d/Relu   [None, 34, 34, 34, 32]\n",
      "l2_conv3d/max_pool3d   [None, 17, 17, 17, 32]\n",
      "l3_conv3d/Relu   [None, 17, 17, 17, 64]\n",
      "l3_conv3d/max_pool3d   [None, 9, 9, 9, 64]\n",
      "l4_conv3d/Relu   [None, 9, 9, 9, 64]\n",
      "l4_conv3d/max_pool3d   [None, 5, 5, 5, 64]\n",
      "l5_conv3d/Relu   [None, 5, 5, 5, 64]\n",
      "l5_conv3d/max_pool3d   [None, 3, 3, 3, 64]\n",
      "l6_fc/fc_out1   [None, 512]\n",
      "l6_fc/dropout1/mul   [None, 512]\n",
      "l7_fc/fc_out2   [None, 128]\n",
      "l7_fc/dropout2/mul   [None, 128]\n",
      "l8_fc/final_output   [None, 1]\n",
      "2019-04-18 14:18:01.529081: I tensorflow/core/common_runtime/gpu/gpu_device.cc:1490] Adding visible gpu devices: 0\n",
      "2019-04-18 14:18:01.529111: I tensorflow/core/common_runtime/gpu/gpu_device.cc:971] Device interconnect StreamExecutor with strength 1 edge matrix:\n",
      "2019-04-18 14:18:01.529117: I tensorflow/core/common_runtime/gpu/gpu_device.cc:977]      0 \n",
      "2019-04-18 14:18:01.529122: I tensorflow/core/common_runtime/gpu/gpu_device.cc:990] 0:   N \n",
      "2019-04-18 14:18:01.529202: I tensorflow/core/common_runtime/gpu/gpu_device.cc:1103] Created TensorFlow device (/job:localhost/replica:0/task:0/device:GPU:0 with 9870 MB memory) -> physical GPU (device: 0, name: GeForce GTX 1080 Ti, pci bus id: 0000:01:00.0, compute capability: 6.1)\n",
      "Model loaded successfully.\n",
      "test_loss = 29.14, test_accuracy = 0.00.\n",
      "Figure(1500x500)\n",
      "Figure(640x480)\n",
      "l1_conv3d/Relu   [None, 67, 67, 67, 16]\n",
      "l1_conv3d/max_pool3d   [None, 34, 34, 34, 16]\n",
      "l2_conv3d/Relu   [None, 34, 34, 34, 32]\n",
      "l2_conv3d/max_pool3d   [None, 17, 17, 17, 32]\n",
      "l3_conv3d/Relu   [None, 17, 17, 17, 64]\n",
      "l3_conv3d/max_pool3d   [None, 9, 9, 9, 64]\n",
      "l4_conv3d/Relu   [None, 9, 9, 9, 64]\n",
      "l4_conv3d/max_pool3d   [None, 5, 5, 5, 64]\n",
      "l5_conv3d/Relu   [None, 5, 5, 5, 64]\n",
      "l5_conv3d/max_pool3d   [None, 3, 3, 3, 64]\n",
      "l6_fc/fc_out1   [None, 512]\n",
      "l6_fc/dropout1/mul   [None, 512]\n",
      "l7_fc/fc_out2   [None, 128]\n",
      "l7_fc/dropout2/mul   [None, 128]\n",
      "l8_fc/final_output   [None, 1]\n",
      "2019-04-18 14:18:02.687273: I tensorflow/core/common_runtime/gpu/gpu_device.cc:1490] Adding visible gpu devices: 0\n",
      "2019-04-18 14:18:02.687299: I tensorflow/core/common_runtime/gpu/gpu_device.cc:971] Device interconnect StreamExecutor with strength 1 edge matrix:\n",
      "2019-04-18 14:18:02.687305: I tensorflow/core/common_runtime/gpu/gpu_device.cc:977]      0 \n",
      "2019-04-18 14:18:02.687309: I tensorflow/core/common_runtime/gpu/gpu_device.cc:990] 0:   N \n",
      "2019-04-18 14:18:02.687390: I tensorflow/core/common_runtime/gpu/gpu_device.cc:1103] Created TensorFlow device (/job:localhost/replica:0/task:0/device:GPU:0 with 9870 MB memory) -> physical GPU (device: 0, name: GeForce GTX 1080 Ti, pci bus id: 0000:01:00.0, compute capability: 6.1)\n",
      "Model loaded successfully.\n",
      "test_loss = 25.46, test_accuracy = 0.00.\n",
      "Figure(640x480)\n"
     ]
    }
   ],
   "source": [
    "!python model_woody.py --num_epochs=200 \n"
   ]
  },
  {
   "cell_type": "code",
   "execution_count": 21,
   "metadata": {},
   "outputs": [
    {
     "name": "stdout",
     "output_type": "stream",
     "text": [
      "l1_conv3d/Relu   [None, 67, 67, 67, 16]\n",
      "l1_conv3d/max_pool3d   [None, 34, 34, 34, 16]\n",
      "l2_conv3d/Relu   [None, 34, 34, 34, 32]\n",
      "l2_conv3d/max_pool3d   [None, 17, 17, 17, 32]\n",
      "l3_conv3d/Relu   [None, 17, 17, 17, 64]\n",
      "l3_conv3d/max_pool3d   [None, 9, 9, 9, 64]\n",
      "l4_conv3d/Relu   [None, 9, 9, 9, 64]\n",
      "l4_conv3d/max_pool3d   [None, 5, 5, 5, 64]\n",
      "l5_conv3d/Relu   [None, 5, 5, 5, 64]\n",
      "l5_conv3d/max_pool3d   [None, 3, 3, 3, 64]\n",
      "l6_fc/fc_out1   [None, 512]\n",
      "l6_fc/dropout1/mul   [None, 512]\n",
      "l7_fc/fc_out2   [None, 128]\n",
      "l7_fc/dropout2/mul   [None, 128]\n",
      "l8_fc/final_output   [None, 1]\n",
      "2019-04-18 15:13:09.497672: I tensorflow/core/platform/cpu_feature_guard.cc:141] Your CPU supports instructions that this TensorFlow binary was not compiled to use: AVX2 FMA\n",
      "2019-04-18 15:13:09.567190: I tensorflow/stream_executor/cuda/cuda_gpu_executor.cc:964] successful NUMA node read from SysFS had negative value (-1), but there must be at least one NUMA node, so returning NUMA node zero\n",
      "2019-04-18 15:13:09.567565: I tensorflow/core/common_runtime/gpu/gpu_device.cc:1411] Found device 0 with properties: \n",
      "name: GeForce GTX 1080 Ti major: 6 minor: 1 memoryClockRate(GHz): 1.721\n",
      "pciBusID: 0000:01:00.0\n",
      "totalMemory: 10.91GiB freeMemory: 10.19GiB\n",
      "2019-04-18 15:13:09.567580: I tensorflow/core/common_runtime/gpu/gpu_device.cc:1490] Adding visible gpu devices: 0\n",
      "2019-04-18 15:13:09.741919: I tensorflow/core/common_runtime/gpu/gpu_device.cc:971] Device interconnect StreamExecutor with strength 1 edge matrix:\n",
      "2019-04-18 15:13:09.741947: I tensorflow/core/common_runtime/gpu/gpu_device.cc:977]      0 \n",
      "2019-04-18 15:13:09.741952: I tensorflow/core/common_runtime/gpu/gpu_device.cc:990] 0:   N \n",
      "2019-04-18 15:13:09.742107: I tensorflow/core/common_runtime/gpu/gpu_device.cc:1103] Created TensorFlow device (/job:localhost/replica:0/task:0/device:GPU:0 with 9848 MB memory) -> physical GPU (device: 0, name: GeForce GTX 1080 Ti, pci bus id: 0000:01:00.0, compute capability: 6.1)\n",
      "Model loaded successfully.\n",
      "test_loss = 25.46, test_accuracy = 0.78.\n",
      "Figure(640x480)\n",
      "l1_conv3d/Relu   [None, 67, 67, 67, 16]\n",
      "l1_conv3d/max_pool3d   [None, 34, 34, 34, 16]\n",
      "l2_conv3d/Relu   [None, 34, 34, 34, 32]\n",
      "l2_conv3d/max_pool3d   [None, 17, 17, 17, 32]\n",
      "l3_conv3d/Relu   [None, 17, 17, 17, 64]\n",
      "l3_conv3d/max_pool3d   [None, 9, 9, 9, 64]\n",
      "l4_conv3d/Relu   [None, 9, 9, 9, 64]\n",
      "l4_conv3d/max_pool3d   [None, 5, 5, 5, 64]\n",
      "l5_conv3d/Relu   [None, 5, 5, 5, 64]\n",
      "l5_conv3d/max_pool3d   [None, 3, 3, 3, 64]\n",
      "l6_fc/fc_out1   [None, 512]\n",
      "l6_fc/dropout1/mul   [None, 512]\n",
      "l7_fc/fc_out2   [None, 128]\n",
      "l7_fc/dropout2/mul   [None, 128]\n",
      "l8_fc/final_output   [None, 1]\n",
      "2019-04-18 15:13:13.573886: I tensorflow/core/common_runtime/gpu/gpu_device.cc:1490] Adding visible gpu devices: 0\n",
      "2019-04-18 15:13:13.573929: I tensorflow/core/common_runtime/gpu/gpu_device.cc:971] Device interconnect StreamExecutor with strength 1 edge matrix:\n",
      "2019-04-18 15:13:13.573935: I tensorflow/core/common_runtime/gpu/gpu_device.cc:977]      0 \n",
      "2019-04-18 15:13:13.573939: I tensorflow/core/common_runtime/gpu/gpu_device.cc:990] 0:   N \n",
      "2019-04-18 15:13:13.574061: I tensorflow/core/common_runtime/gpu/gpu_device.cc:1103] Created TensorFlow device (/job:localhost/replica:0/task:0/device:GPU:0 with 9848 MB memory) -> physical GPU (device: 0, name: GeForce GTX 1080 Ti, pci bus id: 0000:01:00.0, compute capability: 6.1)\n",
      "Model loaded successfully.\n",
      "test_loss = 29.14, test_accuracy = 0.57.\n",
      "Figure(640x480)\n"
     ]
    }
   ],
   "source": [
    "!python model_woody.py --num_epochs=200 --for_test=True"
   ]
  },
  {
   "cell_type": "code",
   "execution_count": null,
   "metadata": {},
   "outputs": [],
   "source": [
    "!python model_zach.py --num_epochs=200 "
   ]
  },
  {
   "cell_type": "code",
   "execution_count": null,
   "metadata": {},
   "outputs": [],
   "source": [
    "DESIRED_SHAPE = (130,130,130)\n",
    "\n",
    "nii = nib.load('/media/woody/Elements/age_data/ABIDE_I/anat_data/50002.nii.gz')\n",
    "arr = nii.get_data()\n",
    "header = nii.header\n",
    "pixdim = np.round(header['pixdim'][1:4],4)\n",
    "resampled_img = resample(arr, pixdim, [2,2,2])\n",
    "crop_padded_img = crop_pad_abide(resampled_img,DESIRED_SHAPE)\n",
    "crop_padded_img = np.round(crop_padded_img)"
   ]
  },
  {
   "cell_type": "code",
   "execution_count": null,
   "metadata": {},
   "outputs": [],
   "source": [
    "print2d(arr)"
   ]
  },
  {
   "cell_type": "code",
   "execution_count": null,
   "metadata": {},
   "outputs": [],
   "source": [
    "print2d(resampled_img)"
   ]
  },
  {
   "cell_type": "code",
   "execution_count": null,
   "metadata": {},
   "outputs": [],
   "source": [
    "print2d(crop_padded_img)"
   ]
  },
  {
   "cell_type": "code",
   "execution_count": null,
   "metadata": {},
   "outputs": [],
   "source": [
    "resampled_img_2 = resample(arr, pixdim, [4,4,4])\n",
    "crop_padded_img_2 = crop_pad_abide(resampled_img_2,(65,65,65))\n",
    "crop_padded_img_2 = np.round(crop_padded_img_2)"
   ]
  },
  {
   "cell_type": "code",
   "execution_count": null,
   "metadata": {},
   "outputs": [],
   "source": [
    "print2d(resampled_img_2)\n",
    "print2d(crop_padded_img_2)\n"
   ]
  },
  {
   "cell_type": "code",
   "execution_count": null,
   "metadata": {},
   "outputs": [],
   "source": [
    "crop_padded_img_3 = crop_pad(resampled_img_2,(67,67,67))\n",
    "crop_padded_img_3 = np.round(crop_padded_img_3)"
   ]
  },
  {
   "cell_type": "code",
   "execution_count": null,
   "metadata": {},
   "outputs": [],
   "source": [
    "print2d(crop_padded_img_3)"
   ]
  },
  {
   "cell_type": "code",
   "execution_count": null,
   "metadata": {},
   "outputs": [],
   "source": [
    "np.corrcoef(a)[0][1]"
   ]
  },
  {
   "cell_type": "code",
   "execution_count": null,
   "metadata": {},
   "outputs": [],
   "source": [
    "a = np.array([[100,2,3],[3,40,100]])"
   ]
  },
  {
   "cell_type": "code",
   "execution_count": 7,
   "metadata": {},
   "outputs": [
    {
     "name": "stdout",
     "output_type": "stream",
     "text": [
      "[[  0  98  97]\n",
      " [-98   0  -1]\n",
      " [-97   1   0]]\n"
     ]
    }
   ],
   "source": [
    "ta = tf.constant([100,2,3])\n",
    "tb = tf.constant([3,40,100])\n",
    "tc = np.array([1,2,3])\n",
    "with tf.Session() as sess:\n",
    "    print(sess.run(tf.reshape(ta,[-1,1])-tf.reshape(ta,[-1,])))"
   ]
  },
  {
   "cell_type": "code",
   "execution_count": 10,
   "metadata": {},
   "outputs": [
    {
     "data": {
      "text/plain": [
       "2.0"
      ]
     },
     "execution_count": 10,
     "metadata": {},
     "output_type": "execute_result"
    }
   ],
   "source": [
    "np.sqrt(4)"
   ]
  },
  {
   "cell_type": "code",
   "execution_count": null,
   "metadata": {},
   "outputs": [],
   "source": [
    "tf.contrib.metrics.streaming_pearson_correlation?"
   ]
  },
  {
   "cell_type": "code",
   "execution_count": null,
   "metadata": {},
   "outputs": [],
   "source": [
    "np.vstack((np.array([1,2]),np.array([3,4])))"
   ]
  },
  {
   "cell_type": "code",
   "execution_count": null,
   "metadata": {},
   "outputs": [],
   "source": [
    "np.corrcoef?"
   ]
  },
  {
   "cell_type": "code",
   "execution_count": null,
   "metadata": {},
   "outputs": [],
   "source": [
    "arr_npy.dtype == decode_arr.dtype"
   ]
  },
  {
   "cell_type": "code",
   "execution_count": null,
   "metadata": {},
   "outputs": [],
   "source": [
    "decode_arr.dtype"
   ]
  },
  {
   "cell_type": "code",
   "execution_count": null,
   "metadata": {},
   "outputs": [],
   "source": [
    "np.sum(arr_npy - decode_arr)"
   ]
  },
  {
   "cell_type": "code",
   "execution_count": null,
   "metadata": {},
   "outputs": [],
   "source": [
    "tf.reduce_mean?"
   ]
  },
  {
   "cell_type": "code",
   "execution_count": null,
   "metadata": {},
   "outputs": [],
   "source": [
    "np.vstack([1,2],[3,4])"
   ]
  },
  {
   "cell_type": "code",
   "execution_count": null,
   "metadata": {},
   "outputs": [],
   "source": []
  }
 ],
 "metadata": {
  "kernelspec": {
   "display_name": "Python 3",
   "language": "python",
   "name": "python3"
  },
  "language_info": {
   "codemirror_mode": {
    "name": "ipython",
    "version": 3
   },
   "file_extension": ".py",
   "mimetype": "text/x-python",
   "name": "python",
   "nbconvert_exporter": "python",
   "pygments_lexer": "ipython3",
   "version": "3.5.2"
  }
 },
 "nbformat": 4,
 "nbformat_minor": 2
}
